{
  "nbformat": 4,
  "nbformat_minor": 0,
  "metadata": {
    "colab": {
      "name": "demoassng2.ipynb",
      "provenance": [],
      "toc_visible": true,
      "authorship_tag": "ABX9TyOqjhVanRSHxWIee/2SKyo/",
      "include_colab_link": true
    },
    "kernelspec": {
      "name": "python3",
      "display_name": "Python 3"
    }
  },
  "cells": [
    {
      "cell_type": "markdown",
      "metadata": {
        "id": "view-in-github",
        "colab_type": "text"
      },
      "source": [
        "<a href=\"https://colab.research.google.com/github/kassymkhan0101/mlcourseai.demoassgn2/blob/master/demoassng2.ipynb\" target=\"_parent\"><img src=\"https://colab.research.google.com/assets/colab-badge.svg\" alt=\"Open In Colab\"/></a>"
      ]
    },
    {
      "cell_type": "code",
      "metadata": {
        "id": "EyAasjXZPDZF",
        "colab_type": "code",
        "colab": {}
      },
      "source": [
        "# Import all required modules\n",
        "import pandas as pd\n",
        "import numpy as np\n",
        "from scipy.stats import spearmanr\n",
        "\n",
        "# Disable warnings\n",
        "import warnings\n",
        "warnings.filterwarnings(\"ignore\")\n",
        "\n",
        "# Import plotting modules\n",
        "import seaborn as sns\n",
        "sns.set()\n",
        "import matplotlib\n",
        "import matplotlib.pyplot as plt\n",
        "import matplotlib.ticker\n",
        "%matplotlib inline"
      ],
      "execution_count": 0,
      "outputs": []
    },
    {
      "cell_type": "code",
      "metadata": {
        "id": "g8qdL_jwPH01",
        "colab_type": "code",
        "colab": {}
      },
      "source": [
        "# Tune the visual settings for figures in `seaborn`\n",
        "sns.set_context(\n",
        "    \"notebook\", \n",
        "    font_scale=1.5,       \n",
        "    rc={ \n",
        "        \"figure.figsize\": (11, 8), \n",
        "        \"axes.titlesize\": 18 \n",
        "    }\n",
        ")\n",
        "\n",
        "from matplotlib import rcParams\n",
        "rcParams['figure.figsize'] = 11, 8"
      ],
      "execution_count": 0,
      "outputs": []
    },
    {
      "cell_type": "code",
      "metadata": {
        "id": "9LJlbLqbPKLt",
        "colab_type": "code",
        "colab": {
          "base_uri": "https://localhost:8080/",
          "height": 212
        },
        "outputId": "1546a8fa-567d-4591-b87f-78e3281a4716"
      },
      "source": [
        "df = pd.read_csv('mlbootcamp5_train.csv', delimiter=';')\n",
        "print('Dataset size: ', df.shape)\n",
        "df.head()"
      ],
      "execution_count": 340,
      "outputs": [
        {
          "output_type": "stream",
          "text": [
            "Dataset size:  (70000, 13)\n"
          ],
          "name": "stdout"
        },
        {
          "output_type": "execute_result",
          "data": {
            "text/html": [
              "<div>\n",
              "<style scoped>\n",
              "    .dataframe tbody tr th:only-of-type {\n",
              "        vertical-align: middle;\n",
              "    }\n",
              "\n",
              "    .dataframe tbody tr th {\n",
              "        vertical-align: top;\n",
              "    }\n",
              "\n",
              "    .dataframe thead th {\n",
              "        text-align: right;\n",
              "    }\n",
              "</style>\n",
              "<table border=\"1\" class=\"dataframe\">\n",
              "  <thead>\n",
              "    <tr style=\"text-align: right;\">\n",
              "      <th></th>\n",
              "      <th>id</th>\n",
              "      <th>age</th>\n",
              "      <th>gender</th>\n",
              "      <th>height</th>\n",
              "      <th>weight</th>\n",
              "      <th>ap_hi</th>\n",
              "      <th>ap_lo</th>\n",
              "      <th>cholesterol</th>\n",
              "      <th>gluc</th>\n",
              "      <th>smoke</th>\n",
              "      <th>alco</th>\n",
              "      <th>active</th>\n",
              "      <th>cardio</th>\n",
              "    </tr>\n",
              "  </thead>\n",
              "  <tbody>\n",
              "    <tr>\n",
              "      <th>0</th>\n",
              "      <td>0</td>\n",
              "      <td>18393</td>\n",
              "      <td>2</td>\n",
              "      <td>168</td>\n",
              "      <td>62.0</td>\n",
              "      <td>110</td>\n",
              "      <td>80</td>\n",
              "      <td>1</td>\n",
              "      <td>1</td>\n",
              "      <td>0</td>\n",
              "      <td>0</td>\n",
              "      <td>1</td>\n",
              "      <td>0</td>\n",
              "    </tr>\n",
              "    <tr>\n",
              "      <th>1</th>\n",
              "      <td>1</td>\n",
              "      <td>20228</td>\n",
              "      <td>1</td>\n",
              "      <td>156</td>\n",
              "      <td>85.0</td>\n",
              "      <td>140</td>\n",
              "      <td>90</td>\n",
              "      <td>3</td>\n",
              "      <td>1</td>\n",
              "      <td>0</td>\n",
              "      <td>0</td>\n",
              "      <td>1</td>\n",
              "      <td>1</td>\n",
              "    </tr>\n",
              "    <tr>\n",
              "      <th>2</th>\n",
              "      <td>2</td>\n",
              "      <td>18857</td>\n",
              "      <td>1</td>\n",
              "      <td>165</td>\n",
              "      <td>64.0</td>\n",
              "      <td>130</td>\n",
              "      <td>70</td>\n",
              "      <td>3</td>\n",
              "      <td>1</td>\n",
              "      <td>0</td>\n",
              "      <td>0</td>\n",
              "      <td>0</td>\n",
              "      <td>1</td>\n",
              "    </tr>\n",
              "    <tr>\n",
              "      <th>3</th>\n",
              "      <td>3</td>\n",
              "      <td>17623</td>\n",
              "      <td>2</td>\n",
              "      <td>169</td>\n",
              "      <td>82.0</td>\n",
              "      <td>150</td>\n",
              "      <td>100</td>\n",
              "      <td>1</td>\n",
              "      <td>1</td>\n",
              "      <td>0</td>\n",
              "      <td>0</td>\n",
              "      <td>1</td>\n",
              "      <td>1</td>\n",
              "    </tr>\n",
              "    <tr>\n",
              "      <th>4</th>\n",
              "      <td>4</td>\n",
              "      <td>17474</td>\n",
              "      <td>1</td>\n",
              "      <td>156</td>\n",
              "      <td>56.0</td>\n",
              "      <td>100</td>\n",
              "      <td>60</td>\n",
              "      <td>1</td>\n",
              "      <td>1</td>\n",
              "      <td>0</td>\n",
              "      <td>0</td>\n",
              "      <td>0</td>\n",
              "      <td>0</td>\n",
              "    </tr>\n",
              "  </tbody>\n",
              "</table>\n",
              "</div>"
            ],
            "text/plain": [
              "   id    age  gender  height  weight  ...  gluc  smoke  alco  active  cardio\n",
              "0   0  18393       2     168    62.0  ...     1      0     0       1       0\n",
              "1   1  20228       1     156    85.0  ...     1      0     0       1       1\n",
              "2   2  18857       1     165    64.0  ...     1      0     0       0       1\n",
              "3   3  17623       2     169    82.0  ...     1      0     0       1       1\n",
              "4   4  17474       1     156    56.0  ...     1      0     0       0       0\n",
              "\n",
              "[5 rows x 13 columns]"
            ]
          },
          "metadata": {
            "tags": []
          },
          "execution_count": 340
        }
      ]
    },
    {
      "cell_type": "code",
      "metadata": {
        "id": "T1DTBWHjPsF3",
        "colab_type": "code",
        "colab": {
          "base_uri": "https://localhost:8080/",
          "height": 856
        },
        "outputId": "f2509b66-6bd3-4539-e48c-c4bee78700a0"
      },
      "source": [
        "df_uniques = pd.melt(frame=df, value_vars=['gender','cholesterol', \n",
        "                                           'gluc', 'smoke', 'alco', \n",
        "                                           'active', 'cardio'])\n",
        "df_uniques = pd.DataFrame(df_uniques.groupby(['variable', \n",
        "                                              'value'])['value'].count()) \\\n",
        "    .sort_index(level=[0, 1]) \\\n",
        "    .rename(columns={'value': 'count'}) \\\n",
        "    .reset_index()\n",
        "\n",
        "sns.factorplot(x='variable', y='count', hue='value', \n",
        "               data=df_uniques, kind='bar', size=12);"
      ],
      "execution_count": 341,
      "outputs": [
        {
          "output_type": "display_data",
          "data": {
            "image/png": "[encoded data removed]",
            "text/plain": [
              "<Figure size 933.9x864 with 1 Axes>"
            ]
          },
          "metadata": {
            "tags": []
          }
        }
      ]
    },
    {
      "cell_type": "code",
      "metadata": {
        "id": "A6_iO8EePxcF",
        "colab_type": "code",
        "colab": {
          "base_uri": "https://localhost:8080/",
          "height": 660
        },
        "outputId": "cb041509-1d13-45ac-acc4-ccd9529ac65e"
      },
      "source": [
        "df_uniques = pd.melt(frame=df, value_vars=['gender','cholesterol', \n",
        "                                           'gluc', 'smoke', 'alco', \n",
        "                                           'active'], \n",
        "                     id_vars=['cardio'])\n",
        "df_uniques = pd.DataFrame(df_uniques.groupby(['variable', 'value', \n",
        "                                              'cardio'])['value'].count()) \\\n",
        "    .sort_index(level=[0, 1]) \\\n",
        "    .rename(columns={'value': 'count'}) \\\n",
        "    .reset_index()\n",
        "\n",
        "sns.factorplot(x='variable', y='count', hue='value', \n",
        "               col='cardio', data=df_uniques, kind='bar', size=9);"
      ],
      "execution_count": 342,
      "outputs": [
        {
          "output_type": "display_data",
          "data": {
            "image/png": "[encoded data removed]",
            "text/plain": [
              "<Figure size 1365.9x648 with 2 Axes>"
            ]
          },
          "metadata": {
            "tags": []
          }
        }
      ]
    },
    {
      "cell_type": "code",
      "metadata": {
        "id": "LJcPQkeZP2V1",
        "colab_type": "code",
        "colab": {
          "base_uri": "https://localhost:8080/",
          "height": 672
        },
        "outputId": "6c94ba8b-b07b-4a57-fec5-db08b84ac1f8"
      },
      "source": [
        "for c in df.columns:\n",
        "    n = df[c].nunique()\n",
        "    print(c)\n",
        "    if n <= 3:\n",
        "        print(n, sorted(df[c].value_counts().to_dict().items()))\n",
        "    else:\n",
        "        print(n)\n",
        "    print(10 * '-')"
      ],
      "execution_count": 343,
      "outputs": [
        {
          "output_type": "stream",
          "text": [
            "id\n",
            "70000\n",
            "----------\n",
            "age\n",
            "8076\n",
            "----------\n",
            "gender\n",
            "2 [(1, 45530), (2, 24470)]\n",
            "----------\n",
            "height\n",
            "109\n",
            "----------\n",
            "weight\n",
            "287\n",
            "----------\n",
            "ap_hi\n",
            "153\n",
            "----------\n",
            "ap_lo\n",
            "157\n",
            "----------\n",
            "cholesterol\n",
            "3 [(1, 52385), (2, 9549), (3, 8066)]\n",
            "----------\n",
            "gluc\n",
            "3 [(1, 59479), (2, 5190), (3, 5331)]\n",
            "----------\n",
            "smoke\n",
            "2 [(0, 63831), (1, 6169)]\n",
            "----------\n",
            "alco\n",
            "2 [(0, 66236), (1, 3764)]\n",
            "----------\n",
            "active\n",
            "2 [(0, 13739), (1, 56261)]\n",
            "----------\n",
            "cardio\n",
            "2 [(0, 35021), (1, 34979)]\n",
            "----------\n"
          ],
          "name": "stdout"
        }
      ]
    },
    {
      "cell_type": "markdown",
      "metadata": {
        "id": "KwoxOomSP9Ku",
        "colab_type": "text"
      },
      "source": [
        "Question 1.1. (1 point). How many men and women are present in this dataset? Values of the gender feature were not given (whether \"1\" stands for women or for men) – figure this out by looking analyzing height, making the assumption that men are taller on average."
      ]
    },
    {
      "cell_type": "code",
      "metadata": {
        "id": "sjVHzWqtP-A8",
        "colab_type": "code",
        "colab": {
          "base_uri": "https://localhost:8080/",
          "height": 136
        },
        "outputId": "03813226-66cb-407f-f3da-a1eeebad463e"
      },
      "source": [
        "df.groupby(['gender'])['height'].agg([np.mean])"
      ],
      "execution_count": 344,
      "outputs": [
        {
          "output_type": "execute_result",
          "data": {
            "text/html": [
              "<div>\n",
              "<style scoped>\n",
              "    .dataframe tbody tr th:only-of-type {\n",
              "        vertical-align: middle;\n",
              "    }\n",
              "\n",
              "    .dataframe tbody tr th {\n",
              "        vertical-align: top;\n",
              "    }\n",
              "\n",
              "    .dataframe thead th {\n",
              "        text-align: right;\n",
              "    }\n",
              "</style>\n",
              "<table border=\"1\" class=\"dataframe\">\n",
              "  <thead>\n",
              "    <tr style=\"text-align: right;\">\n",
              "      <th></th>\n",
              "      <th>mean</th>\n",
              "    </tr>\n",
              "    <tr>\n",
              "      <th>gender</th>\n",
              "      <th></th>\n",
              "    </tr>\n",
              "  </thead>\n",
              "  <tbody>\n",
              "    <tr>\n",
              "      <th>1</th>\n",
              "      <td>161.355612</td>\n",
              "    </tr>\n",
              "    <tr>\n",
              "      <th>2</th>\n",
              "      <td>169.947895</td>\n",
              "    </tr>\n",
              "  </tbody>\n",
              "</table>\n",
              "</div>"
            ],
            "text/plain": [
              "              mean\n",
              "gender            \n",
              "1       161.355612\n",
              "2       169.947895"
            ]
          },
          "metadata": {
            "tags": []
          },
          "execution_count": 344
        }
      ]
    },
    {
      "cell_type": "markdown",
      "metadata": {
        "id": "R22ZCVqFRDGW",
        "colab_type": "text"
      },
      "source": [
        "45530 women and 24470 men, since women are shorter than men and gender data has following:  [(1, 45530), (2, 24470)]"
      ]
    },
    {
      "cell_type": "markdown",
      "metadata": {
        "id": "2KjX62y7RX22",
        "colab_type": "text"
      },
      "source": [
        "Question 1.2. (1 point). Which gender more often reports consuming alcohol - men or women?"
      ]
    },
    {
      "cell_type": "code",
      "metadata": {
        "id": "j_R-nEppRD3M",
        "colab_type": "code",
        "colab": {
          "base_uri": "https://localhost:8080/",
          "height": 515
        },
        "outputId": "d1f20823-3a4c-4714-bbae-a6e89e704096"
      },
      "source": [
        "sns.countplot(x='alco', hue='gender', data=df);"
      ],
      "execution_count": 345,
      "outputs": [
        {
          "output_type": "display_data",
          "data": {
            "image/png": "[encoded data removed]",
            "text/plain": [
              "<Figure size 792x576 with 1 Axes>"
            ]
          },
          "metadata": {
            "tags": []
          }
        }
      ]
    },
    {
      "cell_type": "markdown",
      "metadata": {
        "id": "yQzpZc_7R7eM",
        "colab_type": "text"
      },
      "source": [
        "According to countplot gender = 2, men, more reports consuming alco"
      ]
    },
    {
      "cell_type": "markdown",
      "metadata": {
        "id": "sCUBfuykSMkm",
        "colab_type": "text"
      },
      "source": [
        "Question 1.3. (1 point). What is the difference between the percentages of smokers among men and women (rounded)?"
      ]
    },
    {
      "cell_type": "code",
      "metadata": {
        "id": "flSmQWrPSJSk",
        "colab_type": "code",
        "colab": {
          "base_uri": "https://localhost:8080/",
          "height": 118
        },
        "outputId": "22cb48b9-19fd-422e-9427-8ffa8157e16a"
      },
      "source": [
        "df.groupby(['gender'])['smoke'].value_counts(normalize = True)"
      ],
      "execution_count": 346,
      "outputs": [
        {
          "output_type": "execute_result",
          "data": {
            "text/plain": [
              "gender  smoke\n",
              "1       0        0.982144\n",
              "        1        0.017856\n",
              "2       0        0.781120\n",
              "        1        0.218880\n",
              "Name: smoke, dtype: float64"
            ]
          },
          "metadata": {
            "tags": []
          },
          "execution_count": 346
        }
      ]
    },
    {
      "cell_type": "markdown",
      "metadata": {
        "id": "dj-MGacoWfkQ",
        "colab_type": "text"
      },
      "source": [
        "According to table above, it is 20%"
      ]
    },
    {
      "cell_type": "markdown",
      "metadata": {
        "id": "KGjC0lotVLrz",
        "colab_type": "text"
      },
      "source": [
        "Question 1.4. (1 point). What is the difference between median values of age for smokers and non-smokers (in months, rounded)? You'll need to figure out the units of feature age in this dataset."
      ]
    },
    {
      "cell_type": "code",
      "metadata": {
        "id": "YRNBcVcaW_wX",
        "colab_type": "code",
        "colab": {
          "base_uri": "https://localhost:8080/",
          "height": 84
        },
        "outputId": "9dae4804-2d84-4df2-d359-5cbc49384e97"
      },
      "source": [
        "df.groupby('smoke')['age'].median() / 365.25"
      ],
      "execution_count": 347,
      "outputs": [
        {
          "output_type": "execute_result",
          "data": {
            "text/plain": [
              "smoke\n",
              "0    53.995893\n",
              "1    52.361396\n",
              "Name: age, dtype: float64"
            ]
          },
          "metadata": {
            "tags": []
          },
          "execution_count": 347
        }
      ]
    },
    {
      "cell_type": "code",
      "metadata": {
        "id": "mZrbKSo-VMkG",
        "colab_type": "code",
        "colab": {
          "base_uri": "https://localhost:8080/",
          "height": 34
        },
        "outputId": "facd648c-4bfe-43e9-fa7f-11ca6e949034"
      },
      "source": [
        "(df[df['smoke'] == 0]['age'].median() - \n",
        " df[df['smoke'] == 1]['age'].median()) / 365.25 * 12"
      ],
      "execution_count": 348,
      "outputs": [
        {
          "output_type": "execute_result",
          "data": {
            "text/plain": [
              "19.613963039014372"
            ]
          },
          "metadata": {
            "tags": []
          },
          "execution_count": 348
        }
      ]
    },
    {
      "cell_type": "markdown",
      "metadata": {
        "id": "d1JHN-ouYQFH",
        "colab_type": "text"
      },
      "source": [
        "the answer is 20 months"
      ]
    },
    {
      "cell_type": "markdown",
      "metadata": {
        "id": "2B8Xn4fIYTSe",
        "colab_type": "text"
      },
      "source": [
        "Question 1.5. (2 points). Calculate the fraction of the people with CVD for the two segments described above. What is the ratio of these two fractions?"
      ]
    },
    {
      "cell_type": "code",
      "metadata": {
        "id": "F2jDVM0Yj4Nq",
        "colab_type": "code",
        "colab": {}
      },
      "source": [
        "df['age_years'] = (df['age'] / 365.25).round().astype('int')"
      ],
      "execution_count": 0,
      "outputs": []
    },
    {
      "cell_type": "code",
      "metadata": {
        "id": "X0ANj8gvj7c_",
        "colab_type": "code",
        "colab": {}
      },
      "source": [
        "smoking_old_men = df[(df['gender'] == 2) & (df['age_years'] >= 60)\n",
        "                    & (df['age_years'] < 65) & (df['smoke'] == 1)]"
      ],
      "execution_count": 0,
      "outputs": []
    },
    {
      "cell_type": "code",
      "metadata": {
        "id": "9SO7hg2Dlh9B",
        "colab_type": "code",
        "colab": {
          "base_uri": "https://localhost:8080/",
          "height": 34
        },
        "outputId": "985e5fa1-e23d-4ad5-a5ae-78ceace03d57"
      },
      "source": [
        "smoking_old_men[(smoking_old_men['cholesterol'] == 1) &\n",
        "               (smoking_old_men['ap_hi'] < 120)]['cardio'].mean()"
      ],
      "execution_count": 351,
      "outputs": [
        {
          "output_type": "execute_result",
          "data": {
            "text/plain": [
              "0.2631578947368421"
            ]
          },
          "metadata": {
            "tags": []
          },
          "execution_count": 351
        }
      ]
    },
    {
      "cell_type": "code",
      "metadata": {
        "id": "tbjLRNSJlu1H",
        "colab_type": "code",
        "colab": {
          "base_uri": "https://localhost:8080/",
          "height": 34
        },
        "outputId": "ec9785dc-d6eb-4c31-f5f8-2bca93998345"
      },
      "source": [
        "smoking_old_men[(smoking_old_men['cholesterol'] == 3) &\n",
        "               (smoking_old_men['ap_hi'] >= 160) &\n",
        "               (smoking_old_men['ap_hi'] < 180)]['cardio'].mean()"
      ],
      "execution_count": 352,
      "outputs": [
        {
          "output_type": "execute_result",
          "data": {
            "text/plain": [
              "0.8636363636363636"
            ]
          },
          "metadata": {
            "tags": []
          },
          "execution_count": 352
        }
      ]
    },
    {
      "cell_type": "markdown",
      "metadata": {
        "id": "ikRPedIRl4R8",
        "colab_type": "text"
      },
      "source": [
        "As a result, the difference is approximately 3-fold."
      ]
    },
    {
      "cell_type": "markdown",
      "metadata": {
        "id": "lXl2SK06l5vQ",
        "colab_type": "text"
      },
      "source": [
        "Create a new feature – BMI (Body Mass Index). To do this, divide weight in kilogramms by the square of the height in meters. Normal BMI values are said to be from 18.5 to 25."
      ]
    },
    {
      "cell_type": "code",
      "metadata": {
        "id": "uKwJDBjol9C2",
        "colab_type": "code",
        "colab": {
          "base_uri": "https://localhost:8080/",
          "height": 34
        },
        "outputId": "a751bd9e-9ba2-4afe-98c9-dbbb5d21e67d"
      },
      "source": [
        "df['bmi'] = df['weight']/np.power(df['height']/100, 2)\n",
        "df['bmi'].median()\n"
      ],
      "execution_count": 353,
      "outputs": [
        {
          "output_type": "execute_result",
          "data": {
            "text/plain": [
              "26.374068120774975"
            ]
          },
          "metadata": {
            "tags": []
          },
          "execution_count": 353
        }
      ]
    },
    {
      "cell_type": "code",
      "metadata": {
        "id": "KbEqlQMnnSvH",
        "colab_type": "code",
        "colab": {
          "base_uri": "https://localhost:8080/",
          "height": 84
        },
        "outputId": "9a061e52-f0c8-447e-f613-434b8ef833e9"
      },
      "source": [
        "df.groupby('gender')['bmi'].mean()"
      ],
      "execution_count": 354,
      "outputs": [
        {
          "output_type": "execute_result",
          "data": {
            "text/plain": [
              "gender\n",
              "1    27.987583\n",
              "2    26.754442\n",
              "Name: bmi, dtype: float64"
            ]
          },
          "metadata": {
            "tags": []
          },
          "execution_count": 354
        }
      ]
    },
    {
      "cell_type": "code",
      "metadata": {
        "id": "_YrZLA7Vo9OQ",
        "colab_type": "code",
        "colab": {
          "base_uri": "https://localhost:8080/",
          "height": 314
        },
        "outputId": "2843e017-a55b-419b-a6ea-67f9dd904af8"
      },
      "source": [
        "df.groupby(['gender', 'alco', 'cardio'])['bmi'].median().to_frame()"
      ],
      "execution_count": 355,
      "outputs": [
        {
          "output_type": "execute_result",
          "data": {
            "text/html": [
              "<div>\n",
              "<style scoped>\n",
              "    .dataframe tbody tr th:only-of-type {\n",
              "        vertical-align: middle;\n",
              "    }\n",
              "\n",
              "    .dataframe tbody tr th {\n",
              "        vertical-align: top;\n",
              "    }\n",
              "\n",
              "    .dataframe thead th {\n",
              "        text-align: right;\n",
              "    }\n",
              "</style>\n",
              "<table border=\"1\" class=\"dataframe\">\n",
              "  <thead>\n",
              "    <tr style=\"text-align: right;\">\n",
              "      <th></th>\n",
              "      <th></th>\n",
              "      <th></th>\n",
              "      <th>bmi</th>\n",
              "    </tr>\n",
              "    <tr>\n",
              "      <th>gender</th>\n",
              "      <th>alco</th>\n",
              "      <th>cardio</th>\n",
              "      <th></th>\n",
              "    </tr>\n",
              "  </thead>\n",
              "  <tbody>\n",
              "    <tr>\n",
              "      <th rowspan=\"4\" valign=\"top\">1</th>\n",
              "      <th rowspan=\"2\" valign=\"top\">0</th>\n",
              "      <th>0</th>\n",
              "      <td>25.654372</td>\n",
              "    </tr>\n",
              "    <tr>\n",
              "      <th>1</th>\n",
              "      <td>27.885187</td>\n",
              "    </tr>\n",
              "    <tr>\n",
              "      <th rowspan=\"2\" valign=\"top\">1</th>\n",
              "      <th>0</th>\n",
              "      <td>27.885187</td>\n",
              "    </tr>\n",
              "    <tr>\n",
              "      <th>1</th>\n",
              "      <td>30.110991</td>\n",
              "    </tr>\n",
              "    <tr>\n",
              "      <th rowspan=\"4\" valign=\"top\">2</th>\n",
              "      <th rowspan=\"2\" valign=\"top\">0</th>\n",
              "      <th>0</th>\n",
              "      <td>25.102391</td>\n",
              "    </tr>\n",
              "    <tr>\n",
              "      <th>1</th>\n",
              "      <td>26.674874</td>\n",
              "    </tr>\n",
              "    <tr>\n",
              "      <th rowspan=\"2\" valign=\"top\">1</th>\n",
              "      <th>0</th>\n",
              "      <td>25.351541</td>\n",
              "    </tr>\n",
              "    <tr>\n",
              "      <th>1</th>\n",
              "      <td>27.530797</td>\n",
              "    </tr>\n",
              "  </tbody>\n",
              "</table>\n",
              "</div>"
            ],
            "text/plain": [
              "                          bmi\n",
              "gender alco cardio           \n",
              "1      0    0       25.654372\n",
              "            1       27.885187\n",
              "       1    0       27.885187\n",
              "            1       30.110991\n",
              "2      0    0       25.102391\n",
              "            1       26.674874\n",
              "       1    0       25.351541\n",
              "            1       27.530797"
            ]
          },
          "metadata": {
            "tags": []
          },
          "execution_count": 355
        }
      ]
    },
    {
      "cell_type": "markdown",
      "metadata": {
        "id": "IDgen8OHnOQR",
        "colab_type": "text"
      },
      "source": [
        "Question 1.6. (2 points). Choose the correct statements:\n",
        "\n",
        "\n",
        "\n",
        "1.   Median BMI in the sample is within the range of normal BMI values. FALSE.\n",
        "2.   The BMI for women is on average higher than for men. TRUE\n",
        "3.   \n",
        "Healthy people have, on average, a higher BMI than the people with CVD. FALSE\n",
        "4.   For healthy, non-drinking men, BMI is closer to the norm than for healthy, non-drinking women. TRUE\n",
        "\n",
        "\n",
        "\n",
        "\n",
        "\n",
        "\n",
        "\n"
      ]
    },
    {
      "cell_type": "markdown",
      "metadata": {
        "id": "SV1JdtZps2W3",
        "colab_type": "text"
      },
      "source": [
        "Task:\n",
        "We can see that the data is not perfect. It contains \"dirt\" and inaccuracies. We'll see this better as we visualize the data.\n",
        "\n",
        "Filter out the following patient segments (we consider these as erroneous data)\n",
        "\n",
        "diastolic pressure is higher than systolic\n",
        "\n",
        "height is strictly less than 2.5 percentile (Use pd.Series.quantile to compute this value. If you are not familiar with the function, please read the docs.)\n",
        "\n",
        "height is strictly more than 97.5 percentile\n",
        "\n",
        "weight is strictly less than 2.5 percentile\n",
        "\n",
        "weight is strictly more than 97.5 percentile\n",
        "\n",
        "This is not everything that we can do to clean this data, but this is sufficient for now."
      ]
    },
    {
      "cell_type": "code",
      "metadata": {
        "id": "SmoQxO2NoAYK",
        "colab_type": "code",
        "colab": {}
      },
      "source": [
        "cleandata = df[(df['ap_lo'] <= df['ap_hi']) & (df['weight'] >= df['weight'].quantile(.025)) & (df['weight'] <= df['weight'].quantile(.975)) & (df['height'] >= df['height'].quantile(.025)) & (df['height'] <= df['height'].quantile(.975))]"
      ],
      "execution_count": 0,
      "outputs": []
    },
    {
      "cell_type": "markdown",
      "metadata": {
        "id": "Lvu7XgY5tD-Z",
        "colab_type": "text"
      },
      "source": [
        "Question 1.7. (2 points). What percent of the original data (rounded) did we throw away?\n",
        "\n",
        "10"
      ]
    },
    {
      "cell_type": "code",
      "metadata": {
        "id": "M16SpqERsYmb",
        "colab_type": "code",
        "colab": {
          "base_uri": "https://localhost:8080/",
          "height": 34
        },
        "outputId": "80b875b2-a3de-46f2-cb0a-56a6aa5b7328"
      },
      "source": [
        "len(cleandata)/len(df)"
      ],
      "execution_count": 357,
      "outputs": [
        {
          "output_type": "execute_result",
          "data": {
            "text/plain": [
              "0.9037"
            ]
          },
          "metadata": {
            "tags": []
          },
          "execution_count": 357
        }
      ]
    },
    {
      "cell_type": "markdown",
      "metadata": {
        "id": "Hn1D3h29tHvX",
        "colab_type": "text"
      },
      "source": [
        "To understand the features better, you can create a matrix of the correlation coefficients between the features. \n",
        "Use the initial dataset (non-filtered).\n",
        "\n",
        "Task:\n",
        "Plot a correlation matrix using heatmap(). \n",
        "You can create the matrix using the standard pandas tools with the default parameters."
      ]
    },
    {
      "cell_type": "code",
      "metadata": {
        "id": "nQ8Hx9ZZt5sZ",
        "colab_type": "code",
        "colab": {
          "base_uri": "https://localhost:8080/",
          "height": 511
        },
        "outputId": "26121d3f-8acb-43f9-e951-d020b7e818da"
      },
      "source": [
        "df.corr(method='pearson')"
      ],
      "execution_count": 358,
      "outputs": [
        {
          "output_type": "execute_result",
          "data": {
            "text/html": [
              "<div>\n",
              "<style scoped>\n",
              "    .dataframe tbody tr th:only-of-type {\n",
              "        vertical-align: middle;\n",
              "    }\n",
              "\n",
              "    .dataframe tbody tr th {\n",
              "        vertical-align: top;\n",
              "    }\n",
              "\n",
              "    .dataframe thead th {\n",
              "        text-align: right;\n",
              "    }\n",
              "</style>\n",
              "<table border=\"1\" class=\"dataframe\">\n",
              "  <thead>\n",
              "    <tr style=\"text-align: right;\">\n",
              "      <th></th>\n",
              "      <th>id</th>\n",
              "      <th>age</th>\n",
              "      <th>gender</th>\n",
              "      <th>height</th>\n",
              "      <th>weight</th>\n",
              "      <th>ap_hi</th>\n",
              "      <th>ap_lo</th>\n",
              "      <th>cholesterol</th>\n",
              "      <th>gluc</th>\n",
              "      <th>smoke</th>\n",
              "      <th>alco</th>\n",
              "      <th>active</th>\n",
              "      <th>cardio</th>\n",
              "      <th>age_years</th>\n",
              "      <th>bmi</th>\n",
              "    </tr>\n",
              "  </thead>\n",
              "  <tbody>\n",
              "    <tr>\n",
              "      <th>id</th>\n",
              "      <td>1.000000</td>\n",
              "      <td>0.003457</td>\n",
              "      <td>0.003502</td>\n",
              "      <td>-0.003038</td>\n",
              "      <td>-0.001830</td>\n",
              "      <td>0.003356</td>\n",
              "      <td>-0.002529</td>\n",
              "      <td>0.006106</td>\n",
              "      <td>0.002467</td>\n",
              "      <td>-0.003699</td>\n",
              "      <td>0.001210</td>\n",
              "      <td>0.003755</td>\n",
              "      <td>0.003799</td>\n",
              "      <td>0.003048</td>\n",
              "      <td>-0.001377</td>\n",
              "    </tr>\n",
              "    <tr>\n",
              "      <th>age</th>\n",
              "      <td>0.003457</td>\n",
              "      <td>1.000000</td>\n",
              "      <td>-0.022811</td>\n",
              "      <td>-0.081515</td>\n",
              "      <td>0.053684</td>\n",
              "      <td>0.020764</td>\n",
              "      <td>0.017647</td>\n",
              "      <td>0.154424</td>\n",
              "      <td>0.098703</td>\n",
              "      <td>-0.047633</td>\n",
              "      <td>-0.029723</td>\n",
              "      <td>-0.009927</td>\n",
              "      <td>0.238159</td>\n",
              "      <td>0.999089</td>\n",
              "      <td>0.085512</td>\n",
              "    </tr>\n",
              "    <tr>\n",
              "      <th>gender</th>\n",
              "      <td>0.003502</td>\n",
              "      <td>-0.022811</td>\n",
              "      <td>1.000000</td>\n",
              "      <td>0.499033</td>\n",
              "      <td>0.155406</td>\n",
              "      <td>0.006005</td>\n",
              "      <td>0.015254</td>\n",
              "      <td>-0.035821</td>\n",
              "      <td>-0.020491</td>\n",
              "      <td>0.338135</td>\n",
              "      <td>0.170966</td>\n",
              "      <td>0.005866</td>\n",
              "      <td>0.008109</td>\n",
              "      <td>-0.022905</td>\n",
              "      <td>-0.096529</td>\n",
              "    </tr>\n",
              "    <tr>\n",
              "      <th>height</th>\n",
              "      <td>-0.003038</td>\n",
              "      <td>-0.081515</td>\n",
              "      <td>0.499033</td>\n",
              "      <td>1.000000</td>\n",
              "      <td>0.290968</td>\n",
              "      <td>0.005488</td>\n",
              "      <td>0.006150</td>\n",
              "      <td>-0.050226</td>\n",
              "      <td>-0.018595</td>\n",
              "      <td>0.187989</td>\n",
              "      <td>0.094419</td>\n",
              "      <td>-0.006570</td>\n",
              "      <td>-0.010821</td>\n",
              "      <td>-0.081349</td>\n",
              "      <td>-0.290642</td>\n",
              "    </tr>\n",
              "    <tr>\n",
              "      <th>weight</th>\n",
              "      <td>-0.001830</td>\n",
              "      <td>0.053684</td>\n",
              "      <td>0.155406</td>\n",
              "      <td>0.290968</td>\n",
              "      <td>1.000000</td>\n",
              "      <td>0.030702</td>\n",
              "      <td>0.043710</td>\n",
              "      <td>0.141768</td>\n",
              "      <td>0.106857</td>\n",
              "      <td>0.067780</td>\n",
              "      <td>0.067113</td>\n",
              "      <td>-0.016867</td>\n",
              "      <td>0.181660</td>\n",
              "      <td>0.053574</td>\n",
              "      <td>0.762009</td>\n",
              "    </tr>\n",
              "    <tr>\n",
              "      <th>ap_hi</th>\n",
              "      <td>0.003356</td>\n",
              "      <td>0.020764</td>\n",
              "      <td>0.006005</td>\n",
              "      <td>0.005488</td>\n",
              "      <td>0.030702</td>\n",
              "      <td>1.000000</td>\n",
              "      <td>0.016086</td>\n",
              "      <td>0.023778</td>\n",
              "      <td>0.011841</td>\n",
              "      <td>-0.000922</td>\n",
              "      <td>0.001408</td>\n",
              "      <td>-0.000033</td>\n",
              "      <td>0.054475</td>\n",
              "      <td>0.020458</td>\n",
              "      <td>0.024852</td>\n",
              "    </tr>\n",
              "    <tr>\n",
              "      <th>ap_lo</th>\n",
              "      <td>-0.002529</td>\n",
              "      <td>0.017647</td>\n",
              "      <td>0.015254</td>\n",
              "      <td>0.006150</td>\n",
              "      <td>0.043710</td>\n",
              "      <td>0.016086</td>\n",
              "      <td>1.000000</td>\n",
              "      <td>0.024019</td>\n",
              "      <td>0.010806</td>\n",
              "      <td>0.005186</td>\n",
              "      <td>0.010601</td>\n",
              "      <td>0.004780</td>\n",
              "      <td>0.065719</td>\n",
              "      <td>0.017603</td>\n",
              "      <td>0.035345</td>\n",
              "    </tr>\n",
              "    <tr>\n",
              "      <th>cholesterol</th>\n",
              "      <td>0.006106</td>\n",
              "      <td>0.154424</td>\n",
              "      <td>-0.035821</td>\n",
              "      <td>-0.050226</td>\n",
              "      <td>0.141768</td>\n",
              "      <td>0.023778</td>\n",
              "      <td>0.024019</td>\n",
              "      <td>1.000000</td>\n",
              "      <td>0.451578</td>\n",
              "      <td>0.010354</td>\n",
              "      <td>0.035760</td>\n",
              "      <td>0.009911</td>\n",
              "      <td>0.221147</td>\n",
              "      <td>0.154383</td>\n",
              "      <td>0.146270</td>\n",
              "    </tr>\n",
              "    <tr>\n",
              "      <th>gluc</th>\n",
              "      <td>0.002467</td>\n",
              "      <td>0.098703</td>\n",
              "      <td>-0.020491</td>\n",
              "      <td>-0.018595</td>\n",
              "      <td>0.106857</td>\n",
              "      <td>0.011841</td>\n",
              "      <td>0.010806</td>\n",
              "      <td>0.451578</td>\n",
              "      <td>1.000000</td>\n",
              "      <td>-0.004756</td>\n",
              "      <td>0.011246</td>\n",
              "      <td>-0.006770</td>\n",
              "      <td>0.089307</td>\n",
              "      <td>0.098443</td>\n",
              "      <td>0.101390</td>\n",
              "    </tr>\n",
              "    <tr>\n",
              "      <th>smoke</th>\n",
              "      <td>-0.003699</td>\n",
              "      <td>-0.047633</td>\n",
              "      <td>0.338135</td>\n",
              "      <td>0.187989</td>\n",
              "      <td>0.067780</td>\n",
              "      <td>-0.000922</td>\n",
              "      <td>0.005186</td>\n",
              "      <td>0.010354</td>\n",
              "      <td>-0.004756</td>\n",
              "      <td>1.000000</td>\n",
              "      <td>0.340094</td>\n",
              "      <td>0.025858</td>\n",
              "      <td>-0.015486</td>\n",
              "      <td>-0.047867</td>\n",
              "      <td>-0.027215</td>\n",
              "    </tr>\n",
              "    <tr>\n",
              "      <th>alco</th>\n",
              "      <td>0.001210</td>\n",
              "      <td>-0.029723</td>\n",
              "      <td>0.170966</td>\n",
              "      <td>0.094419</td>\n",
              "      <td>0.067113</td>\n",
              "      <td>0.001408</td>\n",
              "      <td>0.010601</td>\n",
              "      <td>0.035760</td>\n",
              "      <td>0.011246</td>\n",
              "      <td>0.340094</td>\n",
              "      <td>1.000000</td>\n",
              "      <td>0.025476</td>\n",
              "      <td>-0.007330</td>\n",
              "      <td>-0.029887</td>\n",
              "      <td>0.014394</td>\n",
              "    </tr>\n",
              "    <tr>\n",
              "      <th>active</th>\n",
              "      <td>0.003755</td>\n",
              "      <td>-0.009927</td>\n",
              "      <td>0.005866</td>\n",
              "      <td>-0.006570</td>\n",
              "      <td>-0.016867</td>\n",
              "      <td>-0.000033</td>\n",
              "      <td>0.004780</td>\n",
              "      <td>0.009911</td>\n",
              "      <td>-0.006770</td>\n",
              "      <td>0.025858</td>\n",
              "      <td>0.025476</td>\n",
              "      <td>1.000000</td>\n",
              "      <td>-0.035653</td>\n",
              "      <td>-0.009848</td>\n",
              "      <td>-0.014261</td>\n",
              "    </tr>\n",
              "    <tr>\n",
              "      <th>cardio</th>\n",
              "      <td>0.003799</td>\n",
              "      <td>0.238159</td>\n",
              "      <td>0.008109</td>\n",
              "      <td>-0.010821</td>\n",
              "      <td>0.181660</td>\n",
              "      <td>0.054475</td>\n",
              "      <td>0.065719</td>\n",
              "      <td>0.221147</td>\n",
              "      <td>0.089307</td>\n",
              "      <td>-0.015486</td>\n",
              "      <td>-0.007330</td>\n",
              "      <td>-0.035653</td>\n",
              "      <td>1.000000</td>\n",
              "      <td>0.237802</td>\n",
              "      <td>0.165632</td>\n",
              "    </tr>\n",
              "    <tr>\n",
              "      <th>age_years</th>\n",
              "      <td>0.003048</td>\n",
              "      <td>0.999089</td>\n",
              "      <td>-0.022905</td>\n",
              "      <td>-0.081349</td>\n",
              "      <td>0.053574</td>\n",
              "      <td>0.020458</td>\n",
              "      <td>0.017603</td>\n",
              "      <td>0.154383</td>\n",
              "      <td>0.098443</td>\n",
              "      <td>-0.047867</td>\n",
              "      <td>-0.029887</td>\n",
              "      <td>-0.009848</td>\n",
              "      <td>0.237802</td>\n",
              "      <td>1.000000</td>\n",
              "      <td>0.085301</td>\n",
              "    </tr>\n",
              "    <tr>\n",
              "      <th>bmi</th>\n",
              "      <td>-0.001377</td>\n",
              "      <td>0.085512</td>\n",
              "      <td>-0.096529</td>\n",
              "      <td>-0.290642</td>\n",
              "      <td>0.762009</td>\n",
              "      <td>0.024852</td>\n",
              "      <td>0.035345</td>\n",
              "      <td>0.146270</td>\n",
              "      <td>0.101390</td>\n",
              "      <td>-0.027215</td>\n",
              "      <td>0.014394</td>\n",
              "      <td>-0.014261</td>\n",
              "      <td>0.165632</td>\n",
              "      <td>0.085301</td>\n",
              "      <td>1.000000</td>\n",
              "    </tr>\n",
              "  </tbody>\n",
              "</table>\n",
              "</div>"
            ],
            "text/plain": [
              "                   id       age    gender  ...    cardio  age_years       bmi\n",
              "id           1.000000  0.003457  0.003502  ...  0.003799   0.003048 -0.001377\n",
              "age          0.003457  1.000000 -0.022811  ...  0.238159   0.999089  0.085512\n",
              "gender       0.003502 -0.022811  1.000000  ...  0.008109  -0.022905 -0.096529\n",
              "height      -0.003038 -0.081515  0.499033  ... -0.010821  -0.081349 -0.290642\n",
              "weight      -0.001830  0.053684  0.155406  ...  0.181660   0.053574  0.762009\n",
              "ap_hi        0.003356  0.020764  0.006005  ...  0.054475   0.020458  0.024852\n",
              "ap_lo       -0.002529  0.017647  0.015254  ...  0.065719   0.017603  0.035345\n",
              "cholesterol  0.006106  0.154424 -0.035821  ...  0.221147   0.154383  0.146270\n",
              "gluc         0.002467  0.098703 -0.020491  ...  0.089307   0.098443  0.101390\n",
              "smoke       -0.003699 -0.047633  0.338135  ... -0.015486  -0.047867 -0.027215\n",
              "alco         0.001210 -0.029723  0.170966  ... -0.007330  -0.029887  0.014394\n",
              "active       0.003755 -0.009927  0.005866  ... -0.035653  -0.009848 -0.014261\n",
              "cardio       0.003799  0.238159  0.008109  ...  1.000000   0.237802  0.165632\n",
              "age_years    0.003048  0.999089 -0.022905  ...  0.237802   1.000000  0.085301\n",
              "bmi         -0.001377  0.085512 -0.096529  ...  0.165632   0.085301  1.000000\n",
              "\n",
              "[15 rows x 15 columns]"
            ]
          },
          "metadata": {
            "tags": []
          },
          "execution_count": 358
        }
      ]
    },
    {
      "cell_type": "code",
      "metadata": {
        "id": "q0Kr-_u2t9Ev",
        "colab_type": "code",
        "colab": {
          "base_uri": "https://localhost:8080/",
          "height": 590
        },
        "outputId": "9666fc17-171c-4cd6-ecbf-4390a1f0f5c8"
      },
      "source": [
        "sns.heatmap(df.corr(method='pearson'))"
      ],
      "execution_count": 359,
      "outputs": [
        {
          "output_type": "execute_result",
          "data": {
            "text/plain": [
              "<matplotlib.axes._subplots.AxesSubplot at 0x7f8aef0959e8>"
            ]
          },
          "metadata": {
            "tags": []
          },
          "execution_count": 359
        },
        {
          "output_type": "display_data",
          "data": {
            "image/png": "[encoded data removed]",
            "text/plain": [
              "<Figure size 792x576 with 2 Axes>"
            ]
          },
          "metadata": {
            "tags": []
          }
        }
      ]
    },
    {
      "cell_type": "markdown",
      "metadata": {
        "id": "Qx7Rs8MWuw2Z",
        "colab_type": "text"
      },
      "source": [
        "Question 2.1. (1 point). Which pair of features has the strongest Pearson's correlation with the gender feature?\n",
        "\n",
        "**Height, Smoke**"
      ]
    },
    {
      "cell_type": "markdown",
      "metadata": {
        "id": "8Zj-TSSYwReI",
        "colab_type": "text"
      },
      "source": [
        "Create a violin plot for the height and gender using violinplot(). Use the parameters:\n",
        "\n",
        "\n",
        "hue to split by gender;\n",
        "\n",
        "scale to evaluate the number of records for each gender."
      ]
    },
    {
      "cell_type": "code",
      "metadata": {
        "id": "pl4TLkDIuybH",
        "colab_type": "code",
        "colab": {
          "base_uri": "https://localhost:8080/",
          "height": 624
        },
        "outputId": "7592628f-86a1-4252-f571-143dbf00dd10"
      },
      "source": [
        "df_melt = pd.melt(frame=df, value_vars=['height'], id_vars=['gender'])\n",
        "\n",
        "plt.figure(figsize=(12, 10))\n",
        "ax = sns.violinplot(\n",
        "    x='variable', \n",
        "    y='value', \n",
        "    hue='gender', \n",
        "    palette=\"muted\", \n",
        "    split=True, \n",
        "    data=df_melt, \n",
        "    scale='count',\n",
        "    scale_hue=False\n",
        ")"
      ],
      "execution_count": 360,
      "outputs": [
        {
          "output_type": "display_data",
          "data": {
            "image/png": "[encoded data removed]",
            "text/plain": [
              "<Figure size 864x720 with 1 Axes>"
            ]
          },
          "metadata": {
            "tags": []
          }
        }
      ]
    },
    {
      "cell_type": "markdown",
      "metadata": {
        "id": "dgxL5347zSd6",
        "colab_type": "text"
      },
      "source": [
        "Question 2.2. (1 point). Which pair of features has the strongest Spearman correlation?\n",
        "\n",
        "Height, Weight\n",
        "\n",
        "Age, Weight\n",
        "\n",
        "Cholesterol, Gluc\n",
        "\n",
        "Cardio, Cholesterol\n",
        "\n",
        "# **Ap_hi, Ap_lo**\n",
        "\n",
        "Smoke, Alco"
      ]
    },
    {
      "cell_type": "code",
      "metadata": {
        "id": "NgwOr1HxyKvA",
        "colab_type": "code",
        "colab": {
          "base_uri": "https://localhost:8080/",
          "height": 340
        },
        "outputId": "831353b3-8bfa-4474-96bd-a73b0436c424"
      },
      "source": [
        "sns.heatmap(df.corr(method='spearman'))"
      ],
      "execution_count": 366,
      "outputs": [
        {
          "output_type": "execute_result",
          "data": {
            "text/plain": [
              "<matplotlib.axes._subplots.AxesSubplot at 0x7f8aeef63c18>"
            ]
          },
          "metadata": {
            "tags": []
          },
          "execution_count": 366
        },
        {
          "output_type": "display_data",
          "data": {
            "image/png": "[encoded data removed]",
            "text/plain": [
              "<Figure size 432x288 with 2 Axes>"
            ]
          },
          "metadata": {
            "tags": []
          }
        }
      ]
    },
    {
      "cell_type": "markdown",
      "metadata": {
        "id": "8vAtUmpHzsX9",
        "colab_type": "text"
      },
      "source": [
        "Create a count plot using countplot() with the age on the X axis and the number of people on the Y axis. Your resulting plot should have two columns for each age, corresponding to the number of people for each cardio class of that age."
      ]
    },
    {
      "cell_type": "code",
      "metadata": {
        "id": "PB609bF4zryw",
        "colab_type": "code",
        "colab": {
          "base_uri": "https://localhost:8080/",
          "height": 285
        },
        "outputId": "ee2ad2ef-e235-419d-ddc0-9530b05bf980"
      },
      "source": [
        "sns.countplot(x=\"age_years\", hue='cardio', data=df);"
      ],
      "execution_count": 371,
      "outputs": [
        {
          "output_type": "display_data",
          "data": {
            "image/png": "[encoded data removed]",
            "text/plain": [
              "<Figure size 432x288 with 1 Axes>"
            ]
          },
          "metadata": {
            "tags": []
          }
        }
      ]
    },
    {
      "cell_type": "markdown",
      "metadata": {
        "id": "RLtWK1Zt0oXI",
        "colab_type": "text"
      },
      "source": [
        "Question 2.4. (1 point). What is the smallest age at which the number of people with CVD outnumber the number of people without CVD?\n",
        "\n",
        "44\n",
        "\n",
        "# **55**\n",
        "\n",
        "64\n",
        "\n",
        "70\n"
      ]
    }
  ]
}